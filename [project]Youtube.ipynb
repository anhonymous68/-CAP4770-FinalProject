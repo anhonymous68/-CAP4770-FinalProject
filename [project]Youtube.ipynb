{
 "cells": [
  {
   "cell_type": "code",
   "execution_count": 14,
   "metadata": {
    "collapsed": true
   },
   "outputs": [],
   "source": [
    "import pandas as pd\n",
    "df = pd.read_csv('/home/datascience/Desktop/USvideos.csv', \n",
    "                 names = ['ID', 'Trending_Date', 'title', 'channel_title','category_id','publish_time',\n",
    "'tags',\n",
    "'views',\n",
    "'likes',\n",
    "'dislikes',\n",
    "'comment_count',\n",
    "'thumbnail_link',\n",
    "'comments_disabled',\n",
    "'ratings_disabled',\n",
    "'video_error_or_removed',\n",
    "'description'])\n"
   ]
  },
  {
   "cell_type": "code",
   "execution_count": 15,
   "metadata": {},
   "outputs": [
    {
     "name": "stdout",
     "output_type": "stream",
     "text": [
      "<class 'pandas.core.frame.DataFrame'>\n",
      "RangeIndex: 40950 entries, 0 to 40949\n",
      "Data columns (total 16 columns):\n",
      "ID                        40950 non-null object\n",
      "Trending_Date             40950 non-null object\n",
      "title                     40950 non-null object\n",
      "channel_title             40950 non-null object\n",
      "category_id               40950 non-null object\n",
      "publish_time              40950 non-null object\n",
      "tags                      40950 non-null object\n",
      "views                     40950 non-null object\n",
      "likes                     40950 non-null object\n",
      "dislikes                  40950 non-null object\n",
      "comment_count             40950 non-null object\n",
      "thumbnail_link            40950 non-null object\n",
      "comments_disabled         40950 non-null object\n",
      "ratings_disabled          40950 non-null object\n",
      "video_error_or_removed    40950 non-null object\n",
      "description               40380 non-null object\n",
      "dtypes: object(16)\n",
      "memory usage: 5.0+ MB\n"
     ]
    }
   ],
   "source": [
    "df.info()"
   ]
  },
  {
   "cell_type": "code",
   "execution_count": 16,
   "metadata": {},
   "outputs": [
    {
     "data": {
      "text/plain": [
       "0                                                     tags\n",
       "1                                          SHANtell martin\n",
       "2        last week tonight trump presidency|\"last week ...\n",
       "3        racist superman|\"rudy\"|\"mancuso\"|\"king\"|\"bach\"...\n",
       "4        rhett and link|\"gmm\"|\"good mythical morning\"|\"...\n",
       "5        ryan|\"higa\"|\"higatv\"|\"nigahiga\"|\"i dare you\"|\"...\n",
       "6        ijustine|\"week with iPhone X\"|\"iphone x\"|\"appl...\n",
       "7        SNL|\"Saturday Night Live\"|\"SNL Season 43\"|\"Epi...\n",
       "8        5 Ice Cream Gadgets|\"Ice Cream\"|\"Cream Sandwic...\n",
       "9        Trailer|\"Hugh Jackman\"|\"Michelle Williams\"|\"Za...\n",
       "10       vox.com|\"vox\"|\"explain\"|\"shift change\"|\"future...\n",
       "11       NFL|\"Football\"|\"offense\"|\"defense\"|\"afc\"|\"nfc\"...\n",
       "12       The Walking Dead|\"shiva\"|\"tiger\"|\"king ezekiel...\n",
       "13       marshmello|\"blocks\"|\"marshmello blocks\"|\"block...\n",
       "14       nowthis|\"nowthis world\"|\"world news\"|\"nowthis ...\n",
       "15       shopping for new fish|\"new fish\"|\"aquarium fis...\n",
       "16       Robots|\"Boston Dynamics\"|\"SpotMini\"|\"Legged Lo...\n",
       "17       pacific rim|\"pacific rim 2\"|\"pacific rim seque...\n",
       "18       TED|\"TED-Ed\"|\"TED Education\"|\"TED Ed\"|\"Hilary ...\n",
       "19       ultralight|\"airplane\"|\"homemade\"|\"DIY\"|\"hoverb...\n",
       "20       SciShow|\"science\"|\"Hank\"|\"Green\"|\"education\"|\"...\n",
       "21       life noggin|\"life noggin youtube\"|\"youtube lif...\n",
       "22       tested|\"testedcom\"|\"designercon 2017\"|\"preview...\n",
       "23       tom scott|\"tomscott\"|\"built for science\"|\"nati...\n",
       "24       refinery29|\"refinery 29\"|\"r29\"|\"r29 video\"|\"vi...\n",
       "25       using other peoples showers|\"gus\"|\"gus shower\"...\n",
       "26       spaghetti burrito|\"diy burrito\"|\"spaghetti\"|\"b...\n",
       "27               numberphile|\"prime numbers\"|\"proth prime\"\n",
       "28       Smart mug|\"Heated thermos\"|\"tech\"|\"gift idea\"|...\n",
       "29                                       auth-jvardon-auth\n",
       "                               ...                        \n",
       "40920    fortnite|\"fortnite pc\"|\"fortnite battle royale...\n",
       "40921    Christina Aguilera feat. Demi Lovato|\"Fall In ...\n",
       "40922    James Bay|\"Taylor Swift\"|\"Delicate\"|\"BBC\"|\"Rad...\n",
       "40923    The Tonight Show|\"Jimmy Fallon\"|\"Mindy Kaling\"...\n",
       "40924    camels|\"cactus\"|\"pets\"|\"livestock\"|\"animals\"|\"...\n",
       "40925    Matt Stonie|\"Megatoad\"|\"Competitive Eating\"|\"F...\n",
       "40926    Welcome to the party|\"Diplo\"|\"Lil Pump\"|\"Frenc...\n",
       "40927    tyler the creator|\"435\"|\"nice toenails\"|\"golf ...\n",
       "40928    dinosaurs|\"dinos\"|\"paleo\"|\"paleontology\"|\"scis...\n",
       "40929    nat geo wild|\"national geographic\"|\"wild\"|\"wil...\n",
       "40930    Mustard|\"Nick\"|\"Jonas\"|\"Anywhere\"|\"10\"|\"Summer...\n",
       "40931    ABC|\"americanidol\"|\"idol\"|\"american idol\"|\"rya...\n",
       "40932    terrible magicians|\"rudy\"|\"mancuso\"|\"juanpa\"|\"...\n",
       "40933    the voice season 14|\"the voice finale performa...\n",
       "40934    SciShow|\"science\"|\"Hank\"|\"Green\"|\"education\"|\"...\n",
       "40935    SNL|\"Saturday Night Live\"|\"SNL Season 43\"|\"SNL...\n",
       "40936    Nicki Minaj new music|\"Nicki Minaj Queen\"|\"Nic...\n",
       "40937    miniminter|\"mm7games\"|\"simon\"|\"random\"|\"lie de...\n",
       "40938     LucastheSpider|\"Animation\"|\"3D Animation\"|\"Cute\"\n",
       "40939    daddy yankee reggaeton|\"daddy yankee youtube\"|...\n",
       "40940    Garden (Say It Like Dat)|\"R&B\"|\"SZA\"|\"Top Dawg...\n",
       "40941    Graham Norton|\"Graham Norton Show Official\"|\"E...\n",
       "40942    wedding video|\"heartfelt wedding video\"|\"emoti...\n",
       "40943    fifth hamony|\"harmonizers\"|\"lauren\"|\"ally\"|\"no...\n",
       "40944    BuzzFeed|\"BuzzFeedVideo\"|\"Puppy Interview\"|\"pu...\n",
       "40945    aarons animals|\"aarons\"|\"animals\"|\"cat\"|\"cats\"...\n",
       "40946                                               [none]\n",
       "40947    I gave safiya nygaard a perfect hair makeover ...\n",
       "40948    Black Panther|\"HISHE\"|\"Marvel\"|\"Infinity War\"|...\n",
       "40949        call of duty|\"cod\"|\"activision\"|\"Black Ops 4\"\n",
       "Name: tags, Length: 40950, dtype: object"
      ]
     },
     "execution_count": 16,
     "metadata": {},
     "output_type": "execute_result"
    }
   ],
   "source": [
    "tagsArray = df['tags']\n",
    "tag2D = []\n",
    "for tag in tagsArray:\n",
    "    tag2D.append(tag.split('|'))\n",
    "# tag2D  \n",
    "tagsArray"
   ]
  },
  {
   "cell_type": "code",
   "execution_count": null,
   "metadata": {},
   "outputs": [],
   "source": [
    "none_tag = df[df['tags']=='[none]']"
   ]
  },
  {
   "cell_type": "code",
   "execution_count": 23,
   "metadata": {},
   "outputs": [],
   "source": [
    "#-some attributes:\n",
    "#title, tags, views, likes dislike, comment_count\n",
    "\n",
    "data_notNull = df[(df['title'] != '[none]' ) & (df['tags'] != '[none]' )& (df['views'] != '[none]' )& (df['likes'] != '[none]' )&(df['dislikes'] != '[none]' )&(df['comment_count'] != '[none]' )]"
   ]
  },
  {
   "cell_type": "code",
   "execution_count": 24,
   "metadata": {},
   "outputs": [
    {
     "name": "stdout",
     "output_type": "stream",
     "text": [
      "<class 'pandas.core.frame.DataFrame'>\n",
      "Int64Index: 39415 entries, 0 to 40949\n",
      "Data columns (total 16 columns):\n",
      "ID                        39415 non-null object\n",
      "Trending_Date             39415 non-null object\n",
      "title                     39415 non-null object\n",
      "channel_title             39415 non-null object\n",
      "category_id               39415 non-null object\n",
      "publish_time              39415 non-null object\n",
      "tags                      39415 non-null object\n",
      "views                     39415 non-null object\n",
      "likes                     39415 non-null object\n",
      "dislikes                  39415 non-null object\n",
      "comment_count             39415 non-null object\n",
      "thumbnail_link            39415 non-null object\n",
      "comments_disabled         39415 non-null object\n",
      "ratings_disabled          39415 non-null object\n",
      "video_error_or_removed    39415 non-null object\n",
      "description               39120 non-null object\n",
      "dtypes: object(16)\n",
      "memory usage: 5.1+ MB\n"
     ]
    }
   ],
   "source": [
    "data_notNull.info()\n"
   ]
  }
 ],
 "metadata": {
  "kernelspec": {
   "display_name": "Python 2",
   "language": "python",
   "name": "python2"
  },
  "language_info": {
   "codemirror_mode": {
    "name": "ipython",
    "version": 2
   },
   "file_extension": ".py",
   "mimetype": "text/x-python",
   "name": "python",
   "nbconvert_exporter": "python",
   "pygments_lexer": "ipython2",
   "version": "2.7.6"
  }
 },
 "nbformat": 4,
 "nbformat_minor": 2
}
