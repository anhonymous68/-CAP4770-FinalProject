{
 "cells": [
  {
   "cell_type": "code",
   "execution_count": 2,
   "metadata": {},
   "outputs": [],
   "source": [
    "import pandas as pd\n",
    "df = pd.read_csv('C:/users/hoang/Desktop/Study/CAP4770/Project/USVideos/USVideos.csv',\n",
    "                 names = ['ID', 'Trending_Date', 'title', 'channel_title','category_id','publish_time',\n",
    "'tags',\n",
    "'views',\n",
    "'likes',\n",
    "'dislikes',\n",
    "'comment_count',\n",
    "'thumbnail_link',\n",
    "'comments_disabled',\n",
    "'ratings_disabled',\n",
    "'video_error_or_removed',\n",
    "'description'])\n"
   ]
  },
  {
   "cell_type": "code",
   "execution_count": 5,
   "metadata": {},
   "outputs": [
    {
     "name": "stdout",
     "output_type": "stream",
     "text": [
      "<class 'pandas.core.frame.DataFrame'>\n",
      "RangeIndex: 40950 entries, 0 to 40949\n",
      "Data columns (total 16 columns):\n",
      "ID                        40950 non-null object\n",
      "Trending_Date             40950 non-null object\n",
      "title                     40950 non-null object\n",
      "channel_title             40950 non-null object\n",
      "category_id               40950 non-null object\n",
      "publish_time              40950 non-null object\n",
      "tags                      40950 non-null object\n",
      "views                     40950 non-null object\n",
      "likes                     40950 non-null object\n",
      "dislikes                  40950 non-null object\n",
      "comment_count             40950 non-null object\n",
      "thumbnail_link            40950 non-null object\n",
      "comments_disabled         40950 non-null object\n",
      "ratings_disabled          40950 non-null object\n",
      "video_error_or_removed    40950 non-null object\n",
      "description               40380 non-null object\n",
      "dtypes: object(16)\n",
      "memory usage: 5.0+ MB\n"
     ]
    }
   ],
   "source": [
    "df.info()\n"
   ]
  },
  {
   "cell_type": "code",
   "execution_count": 3,
   "metadata": {},
   "outputs": [],
   "source": [
    "#-some attributes:\n",
    "#title, tags, views, likes dislike, comment_count\n",
    "\n",
    "data_notNull = df[(df['title'] != '[none]' ) & (df['tags'] != '[none]' )& (df['views'] != '[none]' )& (df['likes'] != '[none]' )&(df['dislikes'] != '[none]' )&(df['comment_count'] != '[none]' )]"
   ]
  },
  {
   "cell_type": "code",
   "execution_count": 4,
   "metadata": {},
   "outputs": [
    {
     "name": "stdout",
     "output_type": "stream",
     "text": [
      "<class 'pandas.core.frame.DataFrame'>\n",
      "Int64Index: 39415 entries, 0 to 40949\n",
      "Data columns (total 16 columns):\n",
      "ID                        39415 non-null object\n",
      "Trending_Date             39415 non-null object\n",
      "title                     39415 non-null object\n",
      "channel_title             39415 non-null object\n",
      "category_id               39415 non-null object\n",
      "publish_time              39415 non-null object\n",
      "tags                      39415 non-null object\n",
      "views                     39415 non-null object\n",
      "likes                     39415 non-null object\n",
      "dislikes                  39415 non-null object\n",
      "comment_count             39415 non-null object\n",
      "thumbnail_link            39415 non-null object\n",
      "comments_disabled         39415 non-null object\n",
      "ratings_disabled          39415 non-null object\n",
      "video_error_or_removed    39415 non-null object\n",
      "description               39120 non-null object\n",
      "dtypes: object(16)\n",
      "memory usage: 5.1+ MB\n"
     ]
    }
   ],
   "source": [
    "data_notNull.info()"
   ]
  },
  {
   "cell_type": "code",
   "execution_count": 11,
   "metadata": {},
   "outputs": [],
   "source": [
    " import re\n",
    "#get stopwords with nltk\n",
    "import nltk\n",
    "# nltk.download('stopwords')\n",
    "from nltk.corpus import stopwords\n",
    "common_words =  stopwords.words('english')\n",
    "common_words = common_words + ['']\n",
    "def getWords(col:str):\n",
    "    tagsArray = data_notNull[col]\n",
    "    tag2D = []\n",
    "    tagsArray\n",
    "    \n",
    "    for tag in tagsArray:\n",
    "        lineArray = tag.split('|')\n",
    "        words = []\n",
    "        for sentence in lineArray:\n",
    "            words = words + re.split(r'\\W+', sentence.strip())\n",
    "           \n",
    "        tag2D.append(words)\n",
    "        \n",
    "    for i in range(len(tag2D)):\n",
    "        tag2D[i] = [u for u in tag2D[i] if u.lower() not in common_words] \n",
    "                \n",
    "    return tag2D\n",
    "\n",
    "# tag2D  "
   ]
  },
  {
   "cell_type": "code",
   "execution_count": 5,
   "metadata": {},
   "outputs": [],
   "source": [
    "import hashlib\n",
    "#turn all the string in the 2D array into some hash number\n",
    "def hashArray(myArray):\n",
    "    result = []\n",
    "    for words in myArray:\n",
    "        hashArray = []\n",
    "        for word in words:\n",
    "            hashArray.append(abs(hash(word)))\n",
    "        result.append(hashArray)\n",
    "    return result\n"
   ]
  },
  {
   "cell_type": "code",
   "execution_count": 8,
   "metadata": {},
   "outputs": [
    {
     "data": {
      "text/plain": [
       "179"
      ]
     },
     "execution_count": 8,
     "metadata": {},
     "output_type": "execute_result"
    }
   ],
   "source": [
    " len(stopwords.words('english'))"
   ]
  },
  {
   "cell_type": "code",
   "execution_count": null,
   "metadata": {},
   "outputs": [],
   "source": [
    "getWords('tags')"
   ]
  },
  {
   "cell_type": "code",
   "execution_count": null,
   "metadata": {},
   "outputs": [],
   "source": []
  },
  {
   "cell_type": "code",
   "execution_count": null,
   "metadata": {},
   "outputs": [],
   "source": []
  }
 ],
 "metadata": {
  "kernelspec": {
   "display_name": "Python 3",
   "language": "python",
   "name": "python3"
  },
  "language_info": {
   "codemirror_mode": {
    "name": "ipython",
    "version": 3
   },
   "file_extension": ".py",
   "mimetype": "text/x-python",
   "name": "python",
   "nbconvert_exporter": "python",
   "pygments_lexer": "ipython3",
   "version": "3.7.4"
  }
 },
 "nbformat": 4,
 "nbformat_minor": 2
}
