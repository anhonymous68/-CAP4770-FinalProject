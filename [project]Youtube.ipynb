{
 "cells": [
  {
   "cell_type": "code",
   "execution_count": 6,
   "metadata": {},
   "outputs": [],
   "source": [
    "import pandas as pd\n",
    "df = pd.read_csv('C:/users/hoang/Desktop/Study/CAP4770/Project/USVideos/USVideos.csv',\n",
    "                 names = ['ID', 'Trending_Date', 'title', 'channel_title','category_id','publish_time',\n",
    "'tags',\n",
    "'views',\n",
    "'likes',\n",
    "'dislikes',\n",
    "'comment_count',\n",
    "'thumbnail_link',\n",
    "'comments_disabled',\n",
    "'ratings_disabled',\n",
    "'video_error_or_removed',\n",
    "'description'])\n"
   ]
  },
  {
   "cell_type": "code",
   "execution_count": 9,
   "metadata": {},
   "outputs": [],
   "source": [
    "#-some attributes:\n",
    "#title, tags, views, likes dislike, comment_count\n",
    "\n",
    "data_notNull = df[(df['title'] != '[none]' ) & (df['tags'] != '[none]' )& (df['views'] != '[none]' )& (df['likes'] != '[none]' )&(df['dislikes'] != '[none]' )&(df['comment_count'] != '[none]' )]"
   ]
  },
  {
   "cell_type": "code",
   "execution_count": 10,
   "metadata": {},
   "outputs": [],
   "source": [
    " import re\n",
    "common_words =['a', 'an', 'the', 'and', '']\n",
    "def getWords(col:str):\n",
    "    tagsArray = data_notNull[col]\n",
    "    tag2D = []\n",
    "    tagsArray\n",
    "    \n",
    "    for tag in tagsArray:\n",
    "        lineArray = tag.split('|')\n",
    "        words = []\n",
    "        for sentence in lineArray:\n",
    "            words = words + re.split(r'\\W+', sentence.strip())\n",
    "           \n",
    "        tag2D.append(words)\n",
    "        \n",
    "    for i in range(len(tag2D)):\n",
    "        tag2D[i] = [u for u in tag2D[i] if u not in common_words] \n",
    "                \n",
    "    return tag2D\n",
    "# tag2D  "
   ]
  },
  {
   "cell_type": "code",
   "execution_count": 11,
   "metadata": {},
   "outputs": [],
   "source": [
    "import hashlib\n",
    "\n",
    "def hashArray(myArray):\n",
    "    result = []\n",
    "    for words in myArray:\n",
    "        hashArray = []\n",
    "        for word in words:\n",
    "            hashArray.append(abs(hash(word)))\n",
    "        result.append(hashArray)\n",
    "    return result\n"
   ]
  },
  {
   "cell_type": "code",
   "execution_count": null,
   "metadata": {},
   "outputs": [],
   "source": []
  }
 ],
 "metadata": {
  "kernelspec": {
   "display_name": "Python 3",
   "language": "python",
   "name": "python3"
  },
  "language_info": {
   "codemirror_mode": {
    "name": "ipython",
    "version": 3
   },
   "file_extension": ".py",
   "mimetype": "text/x-python",
   "name": "python",
   "nbconvert_exporter": "python",
   "pygments_lexer": "ipython3",
   "version": "3.7.4"
  }
 },
 "nbformat": 4,
 "nbformat_minor": 2
}
