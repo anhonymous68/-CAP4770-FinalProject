{
 "cells": [
  {
   "cell_type": "code",
   "execution_count": 247,
   "metadata": {
    "colab": {},
    "colab_type": "code",
    "id": "zmrA-z0juUsf"
   },
   "outputs": [],
   "source": [
    "import pandas as pd\n",
    "from matplotlib import pyplot as plt\n",
    "import numpy as np\n",
    "import re\n",
    "import nltk\n",
    "import hashlib\n",
    "from nltk.corpus import stopwords\n",
    "from sklearn.model_selection import train_test_split\n",
    "from sklearn import tree\n",
    "from sklearn.multiclass import OneVsRestClassifier\n",
    "from sklearn.svm import SVC\n",
    "from sklearn.metrics import accuracy_score, classification_report, recall_score, roc_curve, auc\n",
    "from sklearn.preprocessing import MinMaxScaler\n",
    "from sklearn.neighbors import KNeighborsClassifier\n",
    "from sklearn.preprocessing import RobustScaler\n",
    "from sklearn.preprocessing import Normalizer\n",
    "from sklearn.preprocessing import QuantileTransformer\n",
    "from sklearn.preprocessing import PowerTransformer\n",
    "from sklearn.preprocessing import LabelEncoder\n",
    "from sklearn.preprocessing import OneHotEncoder"
   ]
  },
  {
   "cell_type": "code",
   "execution_count": 94,
   "metadata": {
    "colab": {},
    "colab_type": "code",
    "id": "Bkjzgeb9uUsj"
   },
   "outputs": [],
   "source": [
    "df = pd.read_csv(\"USvideos.csv\")"
   ]
  },
  {
   "cell_type": "code",
   "execution_count": 95,
   "metadata": {},
   "outputs": [
    {
     "name": "stderr",
     "output_type": "stream",
     "text": [
      "C:\\Users\\abhin\\Anaconda3\\lib\\site-packages\\pandas\\core\\ops\\__init__.py:1115: FutureWarning: elementwise comparison failed; returning scalar instead, but in the future will perform elementwise comparison\n",
      "  result = method(y)\n"
     ]
    }
   ],
   "source": [
    "data_notNull = df[(df['title'] != '[none]' ) & (df['tags'] != '[none]' )& (df['views'] != '[none]' )& (df['likes'] != '[none]' )&(df['dislikes'] != '[none]' )&(df['comment_count'] != '[none]' )]"
   ]
  },
  {
   "cell_type": "code",
   "execution_count": 96,
   "metadata": {},
   "outputs": [
    {
     "name": "stdout",
     "output_type": "stream",
     "text": [
      "<class 'pandas.core.frame.DataFrame'>\n",
      "Int64Index: 39414 entries, 0 to 40948\n",
      "Data columns (total 16 columns):\n",
      "video_id                  39414 non-null object\n",
      "trending_date             39414 non-null object\n",
      "title                     39414 non-null object\n",
      "channel_title             39414 non-null object\n",
      "category_id               39414 non-null int64\n",
      "publish_time              39414 non-null object\n",
      "tags                      39414 non-null object\n",
      "views                     39414 non-null int64\n",
      "likes                     39414 non-null int64\n",
      "dislikes                  39414 non-null int64\n",
      "comment_count             39414 non-null int64\n",
      "thumbnail_link            39414 non-null object\n",
      "comments_disabled         39414 non-null bool\n",
      "ratings_disabled          39414 non-null bool\n",
      "video_error_or_removed    39414 non-null bool\n",
      "description               39119 non-null object\n",
      "dtypes: bool(3), int64(5), object(8)\n",
      "memory usage: 4.3+ MB\n"
     ]
    }
   ],
   "source": [
    "data_notNull.info()"
   ]
  },
  {
   "cell_type": "code",
   "execution_count": 151,
   "metadata": {
    "colab": {
     "base_uri": "https://localhost:8080/",
     "height": 204
    },
    "colab_type": "code",
    "executionInfo": {
     "elapsed": 912,
     "status": "ok",
     "timestamp": 1574219120057,
     "user": {
      "displayName": "Abhinay Pasunuri",
      "photoUrl": "https://lh3.googleusercontent.com/a-/AAuE7mDN_DvlAbk6fmwHaVz4t3wLd6H6RjOC3kJqN2OB7w=s64",
      "userId": "01295706077800286935"
     },
     "user_tz": 300
    },
    "id": "zA8B6bcWuUso",
    "outputId": "03de1208-f7fc-4f7e-8968-7f1d3b65a10b"
   },
   "outputs": [
    {
     "name": "stderr",
     "output_type": "stream",
     "text": [
      "[nltk_data] Downloading package stopwords to\n",
      "[nltk_data]     C:\\Users\\abhin\\AppData\\Roaming\\nltk_data...\n",
      "[nltk_data]   Package stopwords is already up-to-date!\n"
     ]
    }
   ],
   "source": [
    "nltk.download('stopwords')\n",
    "common_words =  stopwords.words('english')\n",
    "common_words = common_words + ['']\n",
    "def getWords(col:str):\n",
    "    tagsArray = data_notNull[col]\n",
    "    tag2D = []\n",
    "    tagsArray\n",
    "    for tag in tagsArray:\n",
    "        lineArray = tag.split('|')\n",
    "        words = []\n",
    "        for sentence in lineArray:\n",
    "            words = words + re.split(r'\\W+', sentence.strip())\n",
    "        tag2D.append(words)\n",
    "    for i in range(len(tag2D)):\n",
    "        temp = [u for u in tag2D[i] if u.lower() not in common_words] \n",
    "        temp = \" \".join(str(x) for x in temp)\n",
    "        tag2D[i] = temp\n",
    "    return tag2D\n",
    "def roc_scores(y_test, y_score, n_classes):\n",
    "    fpr = dict()\n",
    "    tpr = dict()\n",
    "    roc_auc = dict()\n",
    "    for i in range(n_classes):\n",
    "        fpr[i], tpr[i], _ = roc_curve(y_test[:, i], y_score[:, i])\n",
    "        roc_auc[i] = auc(fpr[i], tpr[i])\n",
    "    return fpr, tpr, roc_auc\n",
    "\n",
    "def histogram_feature(feature):\n",
    "    fig, ax = plt.subplots()\n",
    "    plt.hist(data[feature])\n",
    "    plt.xlabel(feature)\n",
    "    plt.ylabel('No. of Videos')\n",
    "\n",
    "def histogram_log_feature(feature):\n",
    "    fig, ax = plt.subplots()\n",
    "    plt.hist(data[feature], log=True)\n",
    "    plt.xlabel(feature)\n",
    "    plt.ylabel('Log(No. of Videos)')\n",
    "\n",
    "def bivariate_scatterplot(feature1, feature2):\n",
    "    fig, ax = plt.subplots()\n",
    "    plt.scatter(x=data[feature1], y=data[feature2], edgecolor=\"#000000\", linewidths=0.5)\n",
    "    ax.set(xlabel=feature1, ylabel=feature2)\n",
    "\n",
    "def kdeplot(feature, data):\n",
    "    sns.kdeplot(data[feature], shade=true)\n",
    "\n",
    "def countplot(feature, data):\n",
    "    sns.countplot(x=feature, data=data, linewidth=5)\n",
    "\n",
    "#generates an ROC curve for one feature\n",
    "#args are false positive and true positve rate array for one class\n",
    "#and the roc_auc for that class\n",
    "def single_attribute_roc_curve(fpr_arr, tpr_arr, roc_auc_arr):\n",
    "    \n",
    "    plt.figure()\n",
    "    lw = 2\n",
    "    plt.plot(fpr_arr, tpr_arr, color='darkorange',\n",
    "             lw=lw, label='ROC curve (area = %0.2f)' % roc_auc_arr)\n",
    "    plt.plot([0, 1], [0, 1], color='navy', lw=lw, linestyle='--')\n",
    "    plt.xlim([0.0, 1.0])\n",
    "    plt.ylim([0.0, 1.05])\n",
    "    plt.xlabel('False Positive Rate')\n",
    "    plt.ylabel('True Positive Rate')\n",
    "    plt.title('Receiver operating characteristic example')\n",
    "    plt.legend(loc=\"lower right\")\n",
    "    plt.show()\n",
    "    \n",
    "def full_attr_roc_curve(fpr, tpr, roc_auc, y_test, y_score, n_classes):\n",
    "    fpr[\"micro\"], tpr[\"micro\"], _ = roc_curve(y_test.ravel(), y_score.ravel())\n",
    "    roc_auc[\"micro\"] = auc(fpr[\"micro\"], tpr[\"micro\"])\n",
    "\n",
    "    #grabs all unique false positive rates\n",
    "    all_fpr = np.unique(np.concatenate([fpr[i] for i in range(n_classes)]))\n",
    "\n",
    "    #interpolate all ROC curves at this points\n",
    "    mean_tpr = np.zeros_like(all_fpr)\n",
    "    for i in range(n_classes):\n",
    "        mean_tpr += interp(all_fpr, fpr[i], tpr[i])\n",
    "\n",
    "    # Finally average it and compute AUC\n",
    "    mean_tpr /= n_classes\n",
    "\n",
    "    fpr[\"macro\"] = all_fpr\n",
    "    tpr[\"macro\"] = mean_tpr\n",
    "    roc_auc[\"macro\"] = auc(fpr[\"macro\"], tpr[\"macro\"])\n",
    "\n",
    "    # Plot all ROC curves\n",
    "    lw = 2\n",
    "    plt.figure()\n",
    "    plt.plot(fpr[\"micro\"], tpr[\"micro\"],\n",
    "             label='micro-average ROC curve (area = {0:0.2f})'\n",
    "                   ''.format(roc_auc[\"micro\"]),\n",
    "             color='deeppink', linestyle=':', linewidth=4)\n",
    "\n",
    "    plt.plot(fpr[\"macro\"], tpr[\"macro\"],\n",
    "             label='macro-average ROC curve (area = {0:0.2f})'\n",
    "                   ''.format(roc_auc[\"macro\"]),\n",
    "             color='navy', linestyle=':', linewidth=4)\n",
    "\n",
    "    colors = cycle(['aqua', 'darkorange', 'cornflowerblue', 'tan', 'rosybrown', 'lightcoral', 'maroon', 'peru',\n",
    "                   'darkorange', 'gold', 'darkkhaki', 'lawngreen', 'turquoise', 'lightcyan', 'steelblue',\n",
    "                    'slategray','indigo', 'violet', 'salmon', 'dodgerblue', 'darkgoldenrod' , 'burlywood', 'lime',\n",
    "                   'yellow', 'bisque', 'forestgreen', 'aquamarine', 'indianred', 'mediumorchid', 'cadetblue', 'sandybrown',\n",
    "                   'peachpuff'])\n",
    "    for i, color in zip(range(n_classes), colors):\n",
    "        plt.plot(fpr[i], tpr[i], color=color, lw=lw,\n",
    "                 label='ROC curve of class {0} (area = {1:0.2f})'\n",
    "                 ''.format(i, roc_auc[i]))\n",
    "\n",
    "    plt.plot([0, 1], [0, 1], 'k--', lw=lw)\n",
    "    plt.xlim([0.0, 1.0])\n",
    "    plt.ylim([0.0, 1.05])\n",
    "    plt.xlabel('False Positive Rate')\n",
    "    plt.ylabel('True Positive Rate')\n",
    "    plt.title('Multi class ROC curve')\n",
    "    plt.legend(loc=\"lower right\")\n",
    "    \n",
    "    plt.show()\n"
   ]
  },
  {
   "cell_type": "code",
   "execution_count": 152,
   "metadata": {},
   "outputs": [],
   "source": [
    "#turn all the string in the 2D array into some hash number\n",
    "def hashArray(myArray):\n",
    "    result = []\n",
    "    for words in myArray:\n",
    "        hashArray = []\n",
    "        for word in words:\n",
    "            hashArray.append(abs(hash(word)))\n",
    "        result.append(hashArray)\n",
    "    return result"
   ]
  },
  {
   "cell_type": "code",
   "execution_count": 99,
   "metadata": {},
   "outputs": [],
   "source": [
    "tag_words = getWords('tags')\n",
    "title_words = getWords('title')"
   ]
  },
  {
   "cell_type": "code",
   "execution_count": 100,
   "metadata": {},
   "outputs": [
    {
     "name": "stderr",
     "output_type": "stream",
     "text": [
      "C:\\Users\\abhin\\Anaconda3\\lib\\site-packages\\ipykernel_launcher.py:1: SettingWithCopyWarning: \n",
      "A value is trying to be set on a copy of a slice from a DataFrame.\n",
      "Try using .loc[row_indexer,col_indexer] = value instead\n",
      "\n",
      "See the caveats in the documentation: http://pandas.pydata.org/pandas-docs/stable/user_guide/indexing.html#returning-a-view-versus-a-copy\n",
      "  \"\"\"Entry point for launching an IPython kernel.\n",
      "C:\\Users\\abhin\\Anaconda3\\lib\\site-packages\\ipykernel_launcher.py:2: SettingWithCopyWarning: \n",
      "A value is trying to be set on a copy of a slice from a DataFrame.\n",
      "Try using .loc[row_indexer,col_indexer] = value instead\n",
      "\n",
      "See the caveats in the documentation: http://pandas.pydata.org/pandas-docs/stable/user_guide/indexing.html#returning-a-view-versus-a-copy\n",
      "  \n",
      "C:\\Users\\abhin\\Anaconda3\\lib\\site-packages\\ipykernel_launcher.py:6: SettingWithCopyWarning: \n",
      "A value is trying to be set on a copy of a slice from a DataFrame.\n",
      "Try using .loc[row_indexer,col_indexer] = value instead\n",
      "\n",
      "See the caveats in the documentation: http://pandas.pydata.org/pandas-docs/stable/user_guide/indexing.html#returning-a-view-versus-a-copy\n",
      "  \n"
     ]
    }
   ],
   "source": [
    "data_notNull['modified_tags'] = tag_words\n",
    "data_notNull['modified_title'] = title_words\n",
    "data_notNull\n",
    "le = LabelEncoder()\n",
    "le.fit(data_notNull['modified_tags'])\n",
    "data_notNull['tags_encoded'] = le.transform(data_notNull['modified_tags'])"
   ]
  },
  {
   "cell_type": "code",
   "execution_count": 101,
   "metadata": {},
   "outputs": [
    {
     "name": "stderr",
     "output_type": "stream",
     "text": [
      "C:\\Users\\abhin\\Anaconda3\\lib\\site-packages\\ipykernel_launcher.py:2: SettingWithCopyWarning: \n",
      "A value is trying to be set on a copy of a slice from a DataFrame.\n",
      "Try using .loc[row_indexer,col_indexer] = value instead\n",
      "\n",
      "See the caveats in the documentation: http://pandas.pydata.org/pandas-docs/stable/user_guide/indexing.html#returning-a-view-versus-a-copy\n",
      "  \n"
     ]
    }
   ],
   "source": [
    "le.fit(data_notNull['modified_title'])\n",
    "data_notNull['title_encoded'] = le.transform(data_notNull['modified_title'])"
   ]
  },
  {
   "cell_type": "code",
   "execution_count": 102,
   "metadata": {},
   "outputs": [
    {
     "data": {
      "text/html": [
       "<div>\n",
       "<style scoped>\n",
       "    .dataframe tbody tr th:only-of-type {\n",
       "        vertical-align: middle;\n",
       "    }\n",
       "\n",
       "    .dataframe tbody tr th {\n",
       "        vertical-align: top;\n",
       "    }\n",
       "\n",
       "    .dataframe thead th {\n",
       "        text-align: right;\n",
       "    }\n",
       "</style>\n",
       "<table border=\"1\" class=\"dataframe\">\n",
       "  <thead>\n",
       "    <tr style=\"text-align: right;\">\n",
       "      <th></th>\n",
       "      <th>category_id</th>\n",
       "      <th>views</th>\n",
       "      <th>likes</th>\n",
       "      <th>dislikes</th>\n",
       "      <th>comment_count</th>\n",
       "      <th>tags_encoded</th>\n",
       "      <th>title_encoded</th>\n",
       "    </tr>\n",
       "  </thead>\n",
       "  <tbody>\n",
       "    <tr>\n",
       "      <td>0</td>\n",
       "      <td>22</td>\n",
       "      <td>748374</td>\n",
       "      <td>57527</td>\n",
       "      <td>2966</td>\n",
       "      <td>15954</td>\n",
       "      <td>2009</td>\n",
       "      <td>5680</td>\n",
       "    </tr>\n",
       "    <tr>\n",
       "      <td>1</td>\n",
       "      <td>24</td>\n",
       "      <td>2418783</td>\n",
       "      <td>97185</td>\n",
       "      <td>6146</td>\n",
       "      <td>12703</td>\n",
       "      <td>4351</td>\n",
       "      <td>5506</td>\n",
       "    </tr>\n",
       "    <tr>\n",
       "      <td>2</td>\n",
       "      <td>23</td>\n",
       "      <td>3191434</td>\n",
       "      <td>146033</td>\n",
       "      <td>5339</td>\n",
       "      <td>8181</td>\n",
       "      <td>5085</td>\n",
       "      <td>4364</td>\n",
       "    </tr>\n",
       "    <tr>\n",
       "      <td>3</td>\n",
       "      <td>24</td>\n",
       "      <td>343168</td>\n",
       "      <td>10172</td>\n",
       "      <td>666</td>\n",
       "      <td>2146</td>\n",
       "      <td>5184</td>\n",
       "      <td>3920</td>\n",
       "    </tr>\n",
       "    <tr>\n",
       "      <td>4</td>\n",
       "      <td>24</td>\n",
       "      <td>2095731</td>\n",
       "      <td>132235</td>\n",
       "      <td>1989</td>\n",
       "      <td>17518</td>\n",
       "      <td>5259</td>\n",
       "      <td>1405</td>\n",
       "    </tr>\n",
       "  </tbody>\n",
       "</table>\n",
       "</div>"
      ],
      "text/plain": [
       "   category_id    views   likes  dislikes  comment_count  tags_encoded  \\\n",
       "0           22   748374   57527      2966          15954          2009   \n",
       "1           24  2418783   97185      6146          12703          4351   \n",
       "2           23  3191434  146033      5339           8181          5085   \n",
       "3           24   343168   10172       666           2146          5184   \n",
       "4           24  2095731  132235      1989          17518          5259   \n",
       "\n",
       "   title_encoded  \n",
       "0           5680  \n",
       "1           5506  \n",
       "2           4364  \n",
       "3           3920  \n",
       "4           1405  "
      ]
     },
     "execution_count": 102,
     "metadata": {},
     "output_type": "execute_result"
    }
   ],
   "source": [
    "preprocessed_data = data_notNull.drop(['description', 'thumbnail_link', 'comments_disabled', 'ratings_disabled', 'video_error_or_removed', 'publish_time', 'channel_title', 'trending_date', 'video_id', 'tags', 'title', 'modified_tags', 'modified_title'], axis=1)\n",
    "preprocessed_data.head()"
   ]
  },
  {
   "cell_type": "code",
   "execution_count": 145,
   "metadata": {
    "colab": {
     "base_uri": "https://localhost:8080/",
     "height": 419
    },
    "colab_type": "code",
    "executionInfo": {
     "elapsed": 723,
     "status": "ok",
     "timestamp": 1574220925175,
     "user": {
      "displayName": "Abhinay Pasunuri",
      "photoUrl": "https://lh3.googleusercontent.com/a-/AAuE7mDN_DvlAbk6fmwHaVz4t3wLd6H6RjOC3kJqN2OB7w=s64",
      "userId": "01295706077800286935"
     },
     "user_tz": 300
    },
    "id": "_UXh4Z25uUsr",
    "outputId": "fc47bddb-63aa-41e9-dafa-d12047af7673"
   },
   "outputs": [],
   "source": [
    "X = preprocessed_data.drop('category_id', axis=1)\n",
    "y = preprocessed_data['category_id']"
   ]
  },
  {
   "cell_type": "code",
   "execution_count": 146,
   "metadata": {
    "colab": {},
    "colab_type": "code",
    "id": "HLoBsD9NuUst"
   },
   "outputs": [],
   "source": [
    "X_train, X_test, y_train, y_test = train_test_split(X, y, test_size=0.2)"
   ]
  },
  {
   "cell_type": "code",
   "execution_count": 153,
   "metadata": {},
   "outputs": [],
   "source": [
    "text_features_train = X_train.drop(['views', 'likes', 'dislikes', 'comment_count'], axis=1)\n",
    "text_features_test = X_test.drop(['views', 'likes', 'dislikes', 'comment_count'], axis=1)\n",
    "X_train = X_train.drop(['tags_encoded', 'title_encoded'], axis=1)\n",
    "X_test = X_test.drop(['tags_encoded', 'title_encoded'], axis=1)"
   ]
  },
  {
   "cell_type": "code",
   "execution_count": 158,
   "metadata": {},
   "outputs": [],
   "source": [
    "X_train = X_train.reset_index().drop('index', axis=1)\n",
    "X_test = X_test.reset_index().drop('index', axis=1)"
   ]
  },
  {
   "cell_type": "code",
   "execution_count": 239,
   "metadata": {
    "colab": {},
    "colab_type": "code",
    "id": "9F4rw26BxIp3"
   },
   "outputs": [],
   "source": [
    "#scaling = MinMaxScaler(feature_range=(0, 1)).fit(X_train)\n",
    "quantile_scaler = QuantileTransformer(output_distribution='uniform').fit(X_train)\n",
    "#quantile_transformer = QuantileTransformer(output_distribution='uniform').fit(X_train)\n",
    "#X_train = scaling.transform(X_train)\n",
    "#X_test = scaling.transform(X_test)\n",
    "Xq_train = quantile_scaler.transform(X_train)\n",
    "Xq_test = quantile_scaler.transform(X_test)\n",
    "#Xqn_train = quantile_transformer.transform(X_train)\n",
    "#Xqn_test = quantile_transformer.transform(X_train)"
   ]
  },
  {
   "cell_type": "code",
   "execution_count": 240,
   "metadata": {},
   "outputs": [],
   "source": [
    "final_df_train = text_features_train.reset_index().drop('index', axis=1).join(pd.DataFrame(Xq_train, columns=['views', 'likes','dislikes','comment_count']))\n",
    "final_df_test = text_features_test.reset_index().drop('index', axis=1).join(pd.DataFrame(Xq_test, columns=['views', 'likes','dislikes','comment_count']))"
   ]
  },
  {
   "cell_type": "code",
   "execution_count": 241,
   "metadata": {
    "colab": {
     "base_uri": "https://localhost:8080/",
     "height": 85
    },
    "colab_type": "code",
    "executionInfo": {
     "elapsed": 84126,
     "status": "ok",
     "timestamp": 1574221767718,
     "user": {
      "displayName": "Abhinay Pasunuri",
      "photoUrl": "https://lh3.googleusercontent.com/a-/AAuE7mDN_DvlAbk6fmwHaVz4t3wLd6H6RjOC3kJqN2OB7w=s64",
      "userId": "01295706077800286935"
     },
     "user_tz": 300
    },
    "id": "sdKxhumWuUsv",
    "outputId": "73a2c3ef-03c3-44b7-8849-3bf624efd502"
   },
   "outputs": [
    {
     "data": {
      "text/plain": [
       "DecisionTreeClassifier(class_weight=None, criterion='entropy', max_depth=25,\n",
       "                       max_features=None, max_leaf_nodes=None,\n",
       "                       min_impurity_decrease=0.0, min_impurity_split=None,\n",
       "                       min_samples_leaf=1, min_samples_split=2,\n",
       "                       min_weight_fraction_leaf=0.0, presort=False,\n",
       "                       random_state=50, splitter='best')"
      ]
     },
     "execution_count": 241,
     "metadata": {},
     "output_type": "execute_result"
    }
   ],
   "source": [
    "model = tree.DecisionTreeClassifier(criterion='entropy', max_depth=25, random_state=50)\n",
    "model.fit(final_df_train, y_train)"
   ]
  },
  {
   "cell_type": "code",
   "execution_count": 242,
   "metadata": {
    "colab": {},
    "colab_type": "code",
    "id": "_TgDRtqmuUsx"
   },
   "outputs": [],
   "source": [
    "y_pred = model.predict(final_df_test)"
   ]
  },
  {
   "cell_type": "code",
   "execution_count": 243,
   "metadata": {},
   "outputs": [
    {
     "data": {
      "text/plain": [
       "0.8704807814283902"
      ]
     },
     "execution_count": 243,
     "metadata": {},
     "output_type": "execute_result"
    }
   ],
   "source": [
    "accuracy_score(y_test, y_pred)"
   ]
  },
  {
   "cell_type": "code",
   "execution_count": 244,
   "metadata": {},
   "outputs": [
    {
     "data": {
      "text/plain": [
       "0.8561073649073325"
      ]
     },
     "execution_count": 244,
     "metadata": {},
     "output_type": "execute_result"
    }
   ],
   "source": [
    "recall_score(y_test, y_pred, average='macro')"
   ]
  },
  {
   "cell_type": "code",
   "execution_count": 248,
   "metadata": {},
   "outputs": [],
   "source": [
    "the_list = y.unique().tolist()\n",
    "y_pred_labels = []\n",
    "y_test_labels = []\n",
    "for pred in y_pred:\n",
    "    l = [0] * 16\n",
    "    l[the_list.index(pred)] = 1\n",
    "    y_pred_labels.append(l)\n",
    "for test in y_test:\n",
    "    l = [0] * 16\n",
    "    l[the_list.index(test)] = 1\n",
    "    y_test_labels.append(l)\n",
    "    \n",
    "y_pred_labels = np.array(y_pred_labels)\n",
    "y_test_labels = np.array(y_test_labels)\n",
    "fprknc, tprknc, roc_aucknc = roc_scores(y_test_labels, y_pred_labels, len(y_pred_labels[0]))"
   ]
  },
  {
   "cell_type": "code",
   "execution_count": 249,
   "metadata": {},
   "outputs": [
    {
     "data": {
      "image/png": "[encoded data removed]",
      "text/plain": [
       "<Figure size 432x288 with 1 Axes>"
      ]
     },
     "metadata": {
      "needs_background": "light"
     },
     "output_type": "display_data"
    }
   ],
   "source": [
    "single_attribute_roc_curve(fprknc[1], tprknc[1], roc_aucknc[1])"
   ]
  },
  {
   "cell_type": "code",
   "execution_count": null,
   "metadata": {},
   "outputs": [],
   "source": []
  }
 ],
 "metadata": {
  "accelerator": "GPU",
  "colab": {
   "name": "Classification.ipynb",
   "provenance": []
  },
  "kernelspec": {
   "display_name": "Python 3",
   "language": "python",
   "name": "python3"
  },
  "language_info": {
   "codemirror_mode": {
    "name": "ipython",
    "version": 3
   },
   "file_extension": ".py",
   "mimetype": "text/x-python",
   "name": "python",
   "nbconvert_exporter": "python",
   "pygments_lexer": "ipython3",
   "version": "3.7.4"
  }
 },
 "nbformat": 4,
 "nbformat_minor": 1
}
